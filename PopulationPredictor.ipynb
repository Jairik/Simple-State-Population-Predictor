{
 "cells": [
  {
   "cell_type": "markdown",
   "metadata": {},
   "source": [
    "# **Basic State Population Predictor**\n",
    "### Author: JJ McCauley\n",
    "Serving as a basic introductory exercise, this program aims to predict the future population of the US by scaping past data, using a simple linear regression model to make a prediction, then visually modeling the data."
   ]
  },
  {
   "cell_type": "code",
   "execution_count": 1,
   "metadata": {},
   "outputs": [],
   "source": [
    "# Storing online table\n",
    "import pandas as pd\n",
    "import numpy as np\n",
    "import ssl \n",
    "# Linear Regression Model imports\n",
    "from sklearn.linear_model import LinearRegression\n",
    "from sklearn.model_selection import train_test_split\n",
    "from sklearn.preprocessing import StandardScaler\n",
    "from sklearn.metrics import mean_squared_error, r2_score"
   ]
  },
  {
   "cell_type": "markdown",
   "metadata": {},
   "source": [
    "## Scraping Population Data\n",
    "First, we will be using the pandas library to scrape the population data off of the web."
   ]
  },
  {
   "cell_type": "code",
   "execution_count": 2,
   "metadata": {},
   "outputs": [
    {
     "name": "stdout",
     "output_type": "stream",
     "text": [
      "---Population Data Loaded---\n",
      "         State_or_Region    2020_Census    2010_Census    2000_Census  \\\n",
      "0          UNITED_STATES  United_States  United_States  United_States   \n",
      "1    RESIDENT_POPULATION      331449281      308745538      281421906   \n",
      "2         PERCENT_CHANGE            7.4            9.7           13.2   \n",
      "3              NORTHEAST      Northeast      Northeast      Northeast   \n",
      "4    RESIDENT_POPULATION       57609148       55317240       53594378   \n",
      "..                   ...            ...            ...            ...   \n",
      "166  RESIDENT_POPULATION         576851         563626         493782   \n",
      "167       PERCENT_CHANGE            2.3           14.1            8.9   \n",
      "168          PUERTO_RICO    Puerto_Rico    Puerto_Rico    Puerto_Rico   \n",
      "169  RESIDENT_POPULATION        3285874        3725789        3808610   \n",
      "170       PERCENT_CHANGE          -11.8           -2.2            8.1   \n",
      "\n",
      "       1990_Census    1980_Census    1970_Census    1960_Census  \\\n",
      "0    United_States  United_States  United_States  United_States   \n",
      "1        248709873      226545805      203211926      179323175   \n",
      "2              9.8           11.5           13.3           18.5   \n",
      "3        Northeast      Northeast      Northeast      Northeast   \n",
      "4         50809229       49135283       49040703       44677819   \n",
      "..             ...            ...            ...            ...   \n",
      "166         453588         469557         332416         330066   \n",
      "167           -3.4           41.3            0.7           13.6   \n",
      "168    Puerto_Rico    Puerto_Rico    Puerto_Rico    Puerto_Rico   \n",
      "169        3522037        3196520        2712033        2349544   \n",
      "170           10.2           17.9           15.4            6.3   \n",
      "\n",
      "       1950_Census    1940_Census    1930_Census    1920_Census    1910_Census  \n",
      "0    United_States  United_States  United_States  United_States  United_States  \n",
      "1        151325798      132165129      123202660      106021568       92228531  \n",
      "2             14.5            7.3           16.2           15.0           21.0  \n",
      "3        Northeast      Northeast      Northeast      Northeast      Northeast  \n",
      "4         39477986       35976777       34427091       29662053       25868573  \n",
      "..             ...            ...            ...            ...            ...  \n",
      "166         290529         250742         225565         194402         145965  \n",
      "167           15.9           11.2           16.0           33.2           57.7  \n",
      "168    Puerto_Rico    Puerto_Rico    Puerto_Rico    Puerto_Rico    Puerto_Rico  \n",
      "169        2210703        1869255        1543913        1299809        1118012  \n",
      "170           18.3           21.1           18.8           16.3           17.3  \n",
      "\n",
      "[171 rows x 13 columns]\n"
     ]
    },
    {
     "name": "stderr",
     "output_type": "stream",
     "text": [
      "C:\\Users\\jairi\\AppData\\Local\\Temp\\ipykernel_21064\\140756628.py:14: FutureWarning: DataFrame.applymap has been deprecated. Use DataFrame.map instead.\n",
      "  df = df.applymap(lambda x: x.replace(' ', '_') if isinstance(x, str) else x) #replace spaces with underscores\n",
      "C:\\Users\\jairi\\AppData\\Local\\Temp\\ipykernel_21064\\140756628.py:16: FutureWarning: DataFrame.applymap has been deprecated. Use DataFrame.map instead.\n",
      "  df = df.applymap(convert_percentage_to_float)\n"
     ]
    }
   ],
   "source": [
    "# Cleaning Functions (defined as function for ease)\n",
    "def convert_percentage_to_float(x):\n",
    "    if isinstance(x, str) and x.endswith('%'):\n",
    "        return float(x.rstrip('%'))\n",
    "    return x\n",
    "\n",
    "#Retrive the data from the website\n",
    "url = 'https://www.census.gov/data/tables/time-series/dec/popchange-data-text.html'\n",
    "ssl._create_default_https_context = ssl._create_unverified_context\n",
    "scraper = pd.read_html(url)\n",
    "#Saving the scraper as a pandas dataframe\n",
    "df = scraper[0]\n",
    "#Cleaning the data\n",
    "df = df.applymap(lambda x: x.replace(' ', '_') if isinstance(x, str) else x) #replace spaces with underscores\n",
    "df.columns = df.columns.str.replace(' ', '_') #replacing the columns\n",
    "df = df.applymap(convert_percentage_to_float) \n",
    "df['State_or_Region'] = df['State_or_Region'].str.upper()\n",
    "print(\"---Population Data Loaded---\")\n",
    "print(df)"
   ]
  },
  {
   "cell_type": "markdown",
   "metadata": {},
   "source": [
    "## Creating the Linear Regression Model & Visualizing\n",
    "Create a Linear Regression Model using the sklearn, then visualize using pandas library. \n",
    "We will be looking at percent change to predict population increase. This doesn't really make any sense, however this is just practice so it is good enough for now. In a real application, more features may be neccessary."
   ]
  },
  {
   "cell_type": "code",
   "execution_count": 13,
   "metadata": {},
   "outputs": [],
   "source": [
    "#Take in the dataframe of the state's population and population change as arguments\n",
    "def Model_and_Visualize(df):\n",
    "    print(df)\n",
    "    #Transposing the df to flip rows and columns, making the data readible by the model\n",
    "    df = df.set_index('State_or_Region').T\n",
    "    print(df)\n",
    "    #Extracting x and y\n",
    "    x = df['PERCENT_CHANGE'].values.reshape(-1, 1)\n",
    "    y = df['RESIDENT_POPULATION'].values\n",
    "    model = LinearRegression()\n",
    "    model.fit(x, y)\n",
    "    y_pred = model.predict(x)\n",
    "    print(\"2030 Prediction: \", y_pred)\n",
    "    "
   ]
  },
  {
   "cell_type": "markdown",
   "metadata": {},
   "source": [
    "## Receiving State Input From the User\n",
    "Lastly, we will ask the user for a state and find it in the pandas dataframe. We will then call our relevant functions to visualize and predict the next resident population."
   ]
  },
  {
   "cell_type": "code",
   "execution_count": 14,
   "metadata": {},
   "outputs": [
    {
     "name": "stdout",
     "output_type": "stream",
     "text": [
      "        State_or_Region 2020_Census 2010_Census 2000_Census 1990_Census  \\\n",
      "76  RESIDENT_POPULATION     6177224     5773552     5296486     4781468   \n",
      "77       PERCENT_CHANGE         7.0         9.0        10.8        13.4   \n",
      "\n",
      "   1980_Census 1970_Census 1960_Census 1950_Census 1940_Census 1930_Census  \\\n",
      "76     4216975     3922399     3100689     2343001     1821244     1631526   \n",
      "77         7.5        26.5        32.3        28.6        11.6        12.5   \n",
      "\n",
      "   1920_Census 1910_Census  \n",
      "76     1449661     1295346  \n",
      "77        11.9         9.0  \n",
      "        State_or_Region 2020_Census 2010_Census 2000_Census 1990_Census  \\\n",
      "76  RESIDENT_POPULATION     6177224     5773552     5296486     4781468   \n",
      "77       PERCENT_CHANGE         7.0         9.0        10.8        13.4   \n",
      "\n",
      "   1980_Census 1970_Census 1960_Census 1950_Census 1940_Census 1930_Census  \\\n",
      "76     4216975     3922399     3100689     2343001     1821244     1631526   \n",
      "77         7.5        26.5        32.3        28.6        11.6        12.5   \n",
      "\n",
      "   1920_Census 1910_Census  \n",
      "76     1449661     1295346  \n",
      "77        11.9         9.0  \n",
      "State_or_Region RESIDENT_POPULATION PERCENT_CHANGE\n",
      "2020_Census                 6177224            7.0\n",
      "2010_Census                 5773552            9.0\n",
      "2000_Census                 5296486           10.8\n",
      "1990_Census                 4781468           13.4\n",
      "1980_Census                 4216975            7.5\n",
      "1970_Census                 3922399           26.5\n",
      "1960_Census                 3100689           32.3\n",
      "1950_Census                 2343001           28.6\n",
      "1940_Census                 1821244           11.6\n",
      "1930_Census                 1631526           12.5\n",
      "1920_Census                 1449661           11.9\n",
      "1910_Census                 1295346            9.0\n",
      "2030 Prediction:  [3838114.68300859 3749710.82877128 3670147.35995769 3555222.34944918\n",
      " 3816013.71944926 2976177.10419474 2719805.92690652 2883353.05724556\n",
      " 3634785.81826276 3595004.08385597 3621525.24012716 3749710.82877128]\n"
     ]
    }
   ],
   "source": [
    "#state_to_find = input(\"Enter the state/region to calculate: \")\n",
    "state_to_find = 'Maryland'\n",
    "state_to_find = state_to_find.upper()\n",
    "#Looping until the user would like to quit\n",
    "while(state_to_find != 'Q'): \n",
    "    row_indicies, col_indicies = np.where(df.values == state_to_find) #Finding the element\n",
    "    if len(row_indicies) > 0: #If the element was found\n",
    "        row_index = row_indicies[0]\n",
    "        state_df = df.iloc[row_index + 1: row_index + 3].copy() #Save the data in a df as a copy\n",
    "        print(state_df)\n",
    "        #Run the Linear Regression Model\n",
    "        Model_and_Visualize(state_df)\n",
    "    else:\n",
    "        print(\"Invalid Input\")\n",
    "    \n",
    "    state_to_find = input(\"Enter the state/region to calculate (Q to quit): \")\n",
    "    state_to_find = state_to_find.upper()\n",
    "       "
   ]
  }
 ],
 "metadata": {
  "kernelspec": {
   "display_name": "base",
   "language": "python",
   "name": "python3"
  },
  "language_info": {
   "codemirror_mode": {
    "name": "ipython",
    "version": 3
   },
   "file_extension": ".py",
   "mimetype": "text/x-python",
   "name": "python",
   "nbconvert_exporter": "python",
   "pygments_lexer": "ipython3",
   "version": "3.11.7"
  }
 },
 "nbformat": 4,
 "nbformat_minor": 2
}
