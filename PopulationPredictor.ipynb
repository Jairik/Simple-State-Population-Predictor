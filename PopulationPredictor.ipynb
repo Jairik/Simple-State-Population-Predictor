{
 "cells": [
  {
   "cell_type": "markdown",
   "metadata": {},
   "source": [
    "# Basic State Population Predictor\n",
    "### Author: JJ McCauley\n",
    "Serving as a basic introductory exercise, this program aims to predict the future population of the US by scaping past data, using a simple linear regression model to make a prediction, then visually modeling the data."
   ]
  },
  {
   "cell_type": "code",
   "execution_count": 23,
   "metadata": {},
   "outputs": [],
   "source": [
    "# Storing online table\n",
    "import pandas as pd\n",
    "import ssl \n",
    "# Linear Regression Model imports\n",
    "from sklearn.linear_model import LinearRegression\n",
    "from sklearn.model_selection import train_test_split\n",
    "from sklearn.preprocessing import StandardScaler\n",
    "from sklearn.metrics import mean_squared_error, r2_score"
   ]
  },
  {
   "cell_type": "markdown",
   "metadata": {},
   "source": [
    "## Scraping Population Data\n",
    "First, we will be using the pandas library to scrape the population data off of the web."
   ]
  },
  {
   "cell_type": "code",
   "execution_count": 26,
   "metadata": {},
   "outputs": [
    {
     "ename": "SyntaxError",
     "evalue": "incomplete input (2661662516.py, line 5)",
     "output_type": "error",
     "traceback": [
      "\u001b[1;36m  Cell \u001b[1;32mIn[26], line 5\u001b[1;36m\u001b[0m\n\u001b[1;33m    for i, table in enumerate(scraper):\u001b[0m\n\u001b[1;37m                                       ^\u001b[0m\n\u001b[1;31mSyntaxError\u001b[0m\u001b[1;31m:\u001b[0m incomplete input\n"
     ]
    }
   ],
   "source": [
    "url = 'https://www.census.gov/data/tables/time-series/dec/popchange-data-text.html'\n",
    "ssl._create_default_https_context = ssl._create_unverified_context\n",
    "scraper = pd.read_html(url)\n",
    "\n",
    "for i, table in enumerate(scraper):\n",
    "    print(\"----------------------------------------------------\")"
   ]
  }
 ],
 "metadata": {
  "kernelspec": {
   "display_name": "base",
   "language": "python",
   "name": "python3"
  },
  "language_info": {
   "codemirror_mode": {
    "name": "ipython",
    "version": 3
   },
   "file_extension": ".py",
   "mimetype": "text/x-python",
   "name": "python",
   "nbconvert_exporter": "python",
   "pygments_lexer": "ipython3",
   "version": "3.11.7"
  }
 },
 "nbformat": 4,
 "nbformat_minor": 2
}
