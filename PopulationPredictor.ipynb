{
 "cells": [
  {
   "cell_type": "markdown",
   "metadata": {},
   "source": [
    "# **Basic State Population Predictor**\n",
    "### Author: JJ McCauley\n",
    "Serving as a basic introductory exercise, this program aims to predict the future population of the US by scaping past data, using a simple linear regression model to make a prediction, then visually modeling the data."
   ]
  },
  {
   "cell_type": "code",
   "execution_count": 15,
   "metadata": {},
   "outputs": [],
   "source": [
    "# Storing online table\n",
    "import pandas as pd\n",
    "import numpy as np\n",
    "import ssl \n",
    "# Linear Regression Model imports\n",
    "from sklearn.linear_model import LinearRegression\n",
    "from sklearn.model_selection import train_test_split\n",
    "from sklearn.preprocessing import StandardScaler\n",
    "from sklearn.metrics import mean_squared_error, r2_score"
   ]
  },
  {
   "cell_type": "markdown",
   "metadata": {},
   "source": [
    "## Scraping Population Data\n",
    "First, we will be using the pandas library to scrape the population data off of the web."
   ]
  },
  {
   "cell_type": "code",
   "execution_count": 11,
   "metadata": {},
   "outputs": [
    {
     "name": "stdout",
     "output_type": "stream",
     "text": [
      "---Population Data Loaded---\n",
      "         State or Region    2020 Census    2010 Census    2000 Census  \\\n",
      "0          United States  United States  United States  United States   \n",
      "1    Resident Population      331449281      308745538      281421906   \n",
      "2         Percent Change           7.4%           9.7%          13.2%   \n",
      "3              Northeast      Northeast      Northeast      Northeast   \n",
      "4    Resident Population       57609148       55317240       53594378   \n",
      "..                   ...            ...            ...            ...   \n",
      "166  Resident Population         576851         563626         493782   \n",
      "167       Percent Change           2.3%          14.1%           8.9%   \n",
      "168          Puerto Rico    Puerto Rico    Puerto Rico    Puerto Rico   \n",
      "169  Resident Population        3285874        3725789        3808610   \n",
      "170       Percent Change         -11.8%          -2.2%           8.1%   \n",
      "\n",
      "       1990 Census    1980 Census    1970 Census    1960 Census  \\\n",
      "0    United States  United States  United States  United States   \n",
      "1        248709873      226545805      203211926      179323175   \n",
      "2             9.8%          11.5%          13.3%          18.5%   \n",
      "3        Northeast      Northeast      Northeast      Northeast   \n",
      "4         50809229       49135283       49040703       44677819   \n",
      "..             ...            ...            ...            ...   \n",
      "166         453588         469557         332416         330066   \n",
      "167          -3.4%          41.3%           0.7%          13.6%   \n",
      "168    Puerto Rico    Puerto Rico    Puerto Rico    Puerto Rico   \n",
      "169        3522037        3196520        2712033        2349544   \n",
      "170          10.2%          17.9%          15.4%           6.3%   \n",
      "\n",
      "       1950 Census    1940 Census    1930 Census    1920 Census    1910 Census  \n",
      "0    United States  United States  United States  United States  United States  \n",
      "1        151325798      132165129      123202660      106021568       92228531  \n",
      "2            14.5%           7.3%          16.2%          15.0%          21.0%  \n",
      "3        Northeast      Northeast      Northeast      Northeast      Northeast  \n",
      "4         39477986       35976777       34427091       29662053       25868573  \n",
      "..             ...            ...            ...            ...            ...  \n",
      "166         290529         250742         225565         194402         145965  \n",
      "167          15.9%          11.2%          16.0%          33.2%          57.7%  \n",
      "168    Puerto Rico    Puerto Rico    Puerto Rico    Puerto Rico    Puerto Rico  \n",
      "169        2210703        1869255        1543913        1299809        1118012  \n",
      "170          18.3%          21.1%          18.8%          16.3%          17.3%  \n",
      "\n",
      "[171 rows x 13 columns]\n"
     ]
    }
   ],
   "source": [
    "#Retrive the data from the website\n",
    "url = 'https://www.census.gov/data/tables/time-series/dec/popchange-data-text.html'\n",
    "ssl._create_default_https_context = ssl._create_unverified_context\n",
    "scraper = pd.read_html(url)\n",
    "#Saving the scraper as a pandas dataframe\n",
    "df = scraper[0]\n",
    "print(\"---Population Data Loaded---\")\n",
    "print(df)"
   ]
  },
  {
   "cell_type": "markdown",
   "metadata": {},
   "source": [
    "## Creating the Linear Regression Model & Visualizing\n",
    "Create a Linear Regression Model using the sklearn, then visualize using pandas library. \n",
    "The features will be:\n",
    "- resident population \n",
    "- percent change.\n"
   ]
  },
  {
   "cell_type": "code",
   "execution_count": null,
   "metadata": {},
   "outputs": [],
   "source": [
    "#Take in the dataframe of the state's population and population change as arguments\n",
    "def Model_and_Visualize(df):\n",
    "    "
   ]
  },
  {
   "cell_type": "markdown",
   "metadata": {},
   "source": [
    "## Receiving State Input From the User\n",
    "Lastly, we will ask the user for a state and find it in the pandas dataframe. We will then call our relevant functions to visualize and predict the next resident population."
   ]
  },
  {
   "cell_type": "code",
   "execution_count": 22,
   "metadata": {},
   "outputs": [
    {
     "name": "stdout",
     "output_type": "stream",
     "text": [
      "        State or Region 2020 Census 2010 Census 2000 Census 1990 Census  \\\n",
      "76  Resident Population     6177224     5773552     5296486     4781468   \n",
      "77       Percent Change        7.0%        9.0%       10.8%       13.4%   \n",
      "\n",
      "   1980 Census 1970 Census 1960 Census 1950 Census 1940 Census 1930 Census  \\\n",
      "76     4216975     3922399     3100689     2343001     1821244     1631526   \n",
      "77        7.5%       26.5%       32.3%       28.6%       11.6%       12.5%   \n",
      "\n",
      "   1920 Census 1910 Census  \n",
      "76     1449661     1295346  \n",
      "77       11.9%        9.0%  \n"
     ]
    }
   ],
   "source": [
    "state_to_find = input(\"Enter the state/region to calculate: \")\n",
    "#Looping until the user would like to quit\n",
    "while(state_to_find != 'Q'): \n",
    "    row_indicies, col_indicies = np.where(df.values == state_to_find) #Finding the element\n",
    "    if len(row_indicies) > 0: #If the element was found\n",
    "        row_index = row_indicies[0]\n",
    "        state_df = df.iloc[row_index + 1: row_index + 3].copy() #Save the data in a df as a copy\n",
    "        print(state_df)\n",
    "        #Run the Linear Regression Model\n",
    "    else:\n",
    "        print(\"Invalid Input\")\n",
    "    \n",
    "    state_to_find = input(\"Enter the state/region to calculate (Q to quit): \")\n",
    "       "
   ]
  },
  {
   "cell_type": "code",
   "execution_count": null,
   "metadata": {},
   "outputs": [],
   "source": []
  }
 ],
 "metadata": {
  "kernelspec": {
   "display_name": "base",
   "language": "python",
   "name": "python3"
  },
  "language_info": {
   "codemirror_mode": {
    "name": "ipython",
    "version": 3
   },
   "file_extension": ".py",
   "mimetype": "text/x-python",
   "name": "python",
   "nbconvert_exporter": "python",
   "pygments_lexer": "ipython3",
   "version": "3.11.7"
  }
 },
 "nbformat": 4,
 "nbformat_minor": 2
}
