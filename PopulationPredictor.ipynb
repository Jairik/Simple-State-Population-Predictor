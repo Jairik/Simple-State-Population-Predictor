{
 "cells": [
  {
   "cell_type": "markdown",
   "metadata": {},
   "source": [
    "# **Basic State Population Predictor**\n",
    "### Author: JJ McCauley\n",
    "Serving as a basic introductory exercise, this program aims to predict the future population of the US by scaping past data, using a simple linear regression model to make a prediction, then visually modeling the data."
   ]
  },
  {
   "cell_type": "code",
   "execution_count": 15,
   "metadata": {},
   "outputs": [],
   "source": [
    "# Storing online table\n",
    "import pandas as pd\n",
    "import numpy as np\n",
    "import ssl \n",
    "# Linear Regression Model imports\n",
    "from sklearn.linear_model import LinearRegression\n",
    "from sklearn.model_selection import train_test_split\n",
    "from sklearn.preprocessing import StandardScaler\n",
    "from sklearn.metrics import mean_squared_error, r2_score"
   ]
  },
  {
   "cell_type": "markdown",
   "metadata": {},
   "source": [
    "## Scraping Population Data\n",
    "First, we will be using the pandas library to scrape the population data off of the web."
   ]
  },
  {
   "cell_type": "code",
   "execution_count": 55,
   "metadata": {},
   "outputs": [
    {
     "name": "stdout",
     "output_type": "stream",
     "text": [
      "---Population Data Loaded---\n",
      "         State or Region    2020 Census    2010 Census    2000 Census  \\\n",
      "0          UNITED_STATES  United_States  United_States  United_States   \n",
      "1    RESIDENT_POPULATION      331449281      308745538      281421906   \n",
      "2         PERCENT_CHANGE            7.4            9.7           13.2   \n",
      "3              NORTHEAST      Northeast      Northeast      Northeast   \n",
      "4    RESIDENT_POPULATION       57609148       55317240       53594378   \n",
      "..                   ...            ...            ...            ...   \n",
      "166  RESIDENT_POPULATION         576851         563626         493782   \n",
      "167       PERCENT_CHANGE            2.3           14.1            8.9   \n",
      "168          PUERTO_RICO    Puerto_Rico    Puerto_Rico    Puerto_Rico   \n",
      "169  RESIDENT_POPULATION        3285874        3725789        3808610   \n",
      "170       PERCENT_CHANGE          -11.8           -2.2            8.1   \n",
      "\n",
      "       1990 Census    1980 Census    1970 Census    1960 Census  \\\n",
      "0    United_States  United_States  United_States  United_States   \n",
      "1        248709873      226545805      203211926      179323175   \n",
      "2              9.8           11.5           13.3           18.5   \n",
      "3        Northeast      Northeast      Northeast      Northeast   \n",
      "4         50809229       49135283       49040703       44677819   \n",
      "..             ...            ...            ...            ...   \n",
      "166         453588         469557         332416         330066   \n",
      "167           -3.4           41.3            0.7           13.6   \n",
      "168    Puerto_Rico    Puerto_Rico    Puerto_Rico    Puerto_Rico   \n",
      "169        3522037        3196520        2712033        2349544   \n",
      "170           10.2           17.9           15.4            6.3   \n",
      "\n",
      "       1950 Census    1940 Census    1930 Census    1920 Census    1910 Census  \n",
      "0    United_States  United_States  United_States  United_States  United_States  \n",
      "1        151325798      132165129      123202660      106021568       92228531  \n",
      "2             14.5            7.3           16.2           15.0           21.0  \n",
      "3        Northeast      Northeast      Northeast      Northeast      Northeast  \n",
      "4         39477986       35976777       34427091       29662053       25868573  \n",
      "..             ...            ...            ...            ...            ...  \n",
      "166         290529         250742         225565         194402         145965  \n",
      "167           15.9           11.2           16.0           33.2           57.7  \n",
      "168    Puerto_Rico    Puerto_Rico    Puerto_Rico    Puerto_Rico    Puerto_Rico  \n",
      "169        2210703        1869255        1543913        1299809        1118012  \n",
      "170           18.3           21.1           18.8           16.3           17.3  \n",
      "\n",
      "[171 rows x 13 columns]\n"
     ]
    },
    {
     "name": "stderr",
     "output_type": "stream",
     "text": [
      "C:\\Users\\jairi\\AppData\\Local\\Temp\\ipykernel_4952\\2558380027.py:14: FutureWarning: DataFrame.applymap has been deprecated. Use DataFrame.map instead.\n",
      "  df = df.applymap(lambda x: x.replace(' ', '_') if isinstance(x, str) else x) #replace spaces with underscores\n",
      "C:\\Users\\jairi\\AppData\\Local\\Temp\\ipykernel_4952\\2558380027.py:15: FutureWarning: DataFrame.applymap has been deprecated. Use DataFrame.map instead.\n",
      "  df = df.applymap(convert_percentage_to_float) #replace spaces with underscores\n"
     ]
    }
   ],
   "source": [
    "# Cleaning Functions (defined as function for ease)\n",
    "def convert_percentage_to_float(x):\n",
    "    if isinstance(x, str) and x.endswith('%'):\n",
    "        return float(x.rstrip('%'))\n",
    "    return x\n",
    "\n",
    "#Retrive the data from the website\n",
    "url = 'https://www.census.gov/data/tables/time-series/dec/popchange-data-text.html'\n",
    "ssl._create_default_https_context = ssl._create_unverified_context\n",
    "scraper = pd.read_html(url)\n",
    "#Saving the scraper as a pandas dataframe\n",
    "df = scraper[0]\n",
    "#Cleaning the data\n",
    "df = df.applymap(lambda x: x.replace(' ', '_') if isinstance(x, str) else x) #replace spaces with underscores\n",
    "df = df.applymap(convert_percentage_to_float) #replace spaces with underscores\n",
    "df['State or Region'] = df['State or Region'].str.upper()\n",
    "print(\"---Population Data Loaded---\")\n",
    "print(df)"
   ]
  },
  {
   "cell_type": "markdown",
   "metadata": {},
   "source": [
    "## Creating the Linear Regression Model & Visualizing\n",
    "Create a Linear Regression Model using the sklearn, then visualize using pandas library. \n",
    "The features will be:\n",
    "- resident population \n",
    "- percent change.\n"
   ]
  },
  {
   "cell_type": "code",
   "execution_count": 53,
   "metadata": {},
   "outputs": [],
   "source": [
    "#Take in the dataframe of the state's population and population change as arguments\n",
    "def Model_and_Visualize(df):\n",
    "    x = df[['PERCENT_CHANGE']].values\n",
    "    y = df[['RESIDENT_POPULATION']].values\n",
    "    model = LinearRegression()\n",
    "    model.fit(x, y)\n",
    "    y_pred = model.predict(x)\n",
    "    print(\"Prediction: \" + y_pred)\n",
    "    "
   ]
  },
  {
   "cell_type": "markdown",
   "metadata": {},
   "source": [
    "## Receiving State Input From the User\n",
    "Lastly, we will ask the user for a state and find it in the pandas dataframe. We will then call our relevant functions to visualize and predict the next resident population."
   ]
  },
  {
   "cell_type": "code",
   "execution_count": 54,
   "metadata": {},
   "outputs": [
    {
     "name": "stdout",
     "output_type": "stream",
     "text": [
      "        State or Region 2020 Census 2010 Census 2000 Census 1990 Census  \\\n",
      "76  RESIDENT_POPULATION     6177224     5773552     5296486     4781468   \n",
      "77       PERCENT_CHANGE         7.0         9.0        10.8        13.4   \n",
      "\n",
      "   1980 Census 1970 Census 1960 Census 1950 Census 1940 Census 1930 Census  \\\n",
      "76     4216975     3922399     3100689     2343001     1821244     1631526   \n",
      "77         7.5        26.5        32.3        28.6        11.6        12.5   \n",
      "\n",
      "   1920 Census 1910 Census  \n",
      "76     1449661     1295346  \n",
      "77        11.9         9.0  \n"
     ]
    },
    {
     "ename": "KeyError",
     "evalue": "\"None of [Index(['PERCENT_CHANGE'], dtype='object')] are in the [columns]\"",
     "output_type": "error",
     "traceback": [
      "\u001b[1;31m---------------------------------------------------------------------------\u001b[0m",
      "\u001b[1;31mKeyError\u001b[0m                                  Traceback (most recent call last)",
      "Cell \u001b[1;32mIn[54], line 11\u001b[0m\n\u001b[0;32m      9\u001b[0m     \u001b[38;5;28mprint\u001b[39m(state_df)\n\u001b[0;32m     10\u001b[0m     \u001b[38;5;66;03m#Run the Linear Regression Model\u001b[39;00m\n\u001b[1;32m---> 11\u001b[0m     Model_and_Visualize(state_df)\n\u001b[0;32m     12\u001b[0m \u001b[38;5;28;01melse\u001b[39;00m:\n\u001b[0;32m     13\u001b[0m     \u001b[38;5;28mprint\u001b[39m(\u001b[38;5;124m\"\u001b[39m\u001b[38;5;124mInvalid Input\u001b[39m\u001b[38;5;124m\"\u001b[39m)\n",
      "Cell \u001b[1;32mIn[53], line 3\u001b[0m, in \u001b[0;36mModel_and_Visualize\u001b[1;34m(df)\u001b[0m\n\u001b[0;32m      2\u001b[0m \u001b[38;5;28;01mdef\u001b[39;00m \u001b[38;5;21mModel_and_Visualize\u001b[39m(df):\n\u001b[1;32m----> 3\u001b[0m     x \u001b[38;5;241m=\u001b[39m df[[\u001b[38;5;124m'\u001b[39m\u001b[38;5;124mPERCENT_CHANGE\u001b[39m\u001b[38;5;124m'\u001b[39m]]\u001b[38;5;241m.\u001b[39mvalues\n\u001b[0;32m      4\u001b[0m     y \u001b[38;5;241m=\u001b[39m df[[\u001b[38;5;124m'\u001b[39m\u001b[38;5;124mRESIDENT_POPULATION\u001b[39m\u001b[38;5;124m'\u001b[39m]]\u001b[38;5;241m.\u001b[39mvalues\n\u001b[0;32m      5\u001b[0m     model \u001b[38;5;241m=\u001b[39m LinearRegression()\n",
      "File \u001b[1;32mc:\\Users\\jairi\\anaconda3\\Lib\\site-packages\\pandas\\core\\frame.py:3899\u001b[0m, in \u001b[0;36mDataFrame.__getitem__\u001b[1;34m(self, key)\u001b[0m\n\u001b[0;32m   3897\u001b[0m     \u001b[38;5;28;01mif\u001b[39;00m is_iterator(key):\n\u001b[0;32m   3898\u001b[0m         key \u001b[38;5;241m=\u001b[39m \u001b[38;5;28mlist\u001b[39m(key)\n\u001b[1;32m-> 3899\u001b[0m     indexer \u001b[38;5;241m=\u001b[39m \u001b[38;5;28mself\u001b[39m\u001b[38;5;241m.\u001b[39mcolumns\u001b[38;5;241m.\u001b[39m_get_indexer_strict(key, \u001b[38;5;124m\"\u001b[39m\u001b[38;5;124mcolumns\u001b[39m\u001b[38;5;124m\"\u001b[39m)[\u001b[38;5;241m1\u001b[39m]\n\u001b[0;32m   3901\u001b[0m \u001b[38;5;66;03m# take() does not accept boolean indexers\u001b[39;00m\n\u001b[0;32m   3902\u001b[0m \u001b[38;5;28;01mif\u001b[39;00m \u001b[38;5;28mgetattr\u001b[39m(indexer, \u001b[38;5;124m\"\u001b[39m\u001b[38;5;124mdtype\u001b[39m\u001b[38;5;124m\"\u001b[39m, \u001b[38;5;28;01mNone\u001b[39;00m) \u001b[38;5;241m==\u001b[39m \u001b[38;5;28mbool\u001b[39m:\n",
      "File \u001b[1;32mc:\\Users\\jairi\\anaconda3\\Lib\\site-packages\\pandas\\core\\indexes\\base.py:6115\u001b[0m, in \u001b[0;36mIndex._get_indexer_strict\u001b[1;34m(self, key, axis_name)\u001b[0m\n\u001b[0;32m   6112\u001b[0m \u001b[38;5;28;01melse\u001b[39;00m:\n\u001b[0;32m   6113\u001b[0m     keyarr, indexer, new_indexer \u001b[38;5;241m=\u001b[39m \u001b[38;5;28mself\u001b[39m\u001b[38;5;241m.\u001b[39m_reindex_non_unique(keyarr)\n\u001b[1;32m-> 6115\u001b[0m \u001b[38;5;28mself\u001b[39m\u001b[38;5;241m.\u001b[39m_raise_if_missing(keyarr, indexer, axis_name)\n\u001b[0;32m   6117\u001b[0m keyarr \u001b[38;5;241m=\u001b[39m \u001b[38;5;28mself\u001b[39m\u001b[38;5;241m.\u001b[39mtake(indexer)\n\u001b[0;32m   6118\u001b[0m \u001b[38;5;28;01mif\u001b[39;00m \u001b[38;5;28misinstance\u001b[39m(key, Index):\n\u001b[0;32m   6119\u001b[0m     \u001b[38;5;66;03m# GH 42790 - Preserve name from an Index\u001b[39;00m\n",
      "File \u001b[1;32mc:\\Users\\jairi\\anaconda3\\Lib\\site-packages\\pandas\\core\\indexes\\base.py:6176\u001b[0m, in \u001b[0;36mIndex._raise_if_missing\u001b[1;34m(self, key, indexer, axis_name)\u001b[0m\n\u001b[0;32m   6174\u001b[0m     \u001b[38;5;28;01mif\u001b[39;00m use_interval_msg:\n\u001b[0;32m   6175\u001b[0m         key \u001b[38;5;241m=\u001b[39m \u001b[38;5;28mlist\u001b[39m(key)\n\u001b[1;32m-> 6176\u001b[0m     \u001b[38;5;28;01mraise\u001b[39;00m \u001b[38;5;167;01mKeyError\u001b[39;00m(\u001b[38;5;124mf\u001b[39m\u001b[38;5;124m\"\u001b[39m\u001b[38;5;124mNone of [\u001b[39m\u001b[38;5;132;01m{\u001b[39;00mkey\u001b[38;5;132;01m}\u001b[39;00m\u001b[38;5;124m] are in the [\u001b[39m\u001b[38;5;132;01m{\u001b[39;00maxis_name\u001b[38;5;132;01m}\u001b[39;00m\u001b[38;5;124m]\u001b[39m\u001b[38;5;124m\"\u001b[39m)\n\u001b[0;32m   6178\u001b[0m not_found \u001b[38;5;241m=\u001b[39m \u001b[38;5;28mlist\u001b[39m(ensure_index(key)[missing_mask\u001b[38;5;241m.\u001b[39mnonzero()[\u001b[38;5;241m0\u001b[39m]]\u001b[38;5;241m.\u001b[39munique())\n\u001b[0;32m   6179\u001b[0m \u001b[38;5;28;01mraise\u001b[39;00m \u001b[38;5;167;01mKeyError\u001b[39;00m(\u001b[38;5;124mf\u001b[39m\u001b[38;5;124m\"\u001b[39m\u001b[38;5;132;01m{\u001b[39;00mnot_found\u001b[38;5;132;01m}\u001b[39;00m\u001b[38;5;124m not in index\u001b[39m\u001b[38;5;124m\"\u001b[39m)\n",
      "\u001b[1;31mKeyError\u001b[0m: \"None of [Index(['PERCENT_CHANGE'], dtype='object')] are in the [columns]\""
     ]
    }
   ],
   "source": [
    "state_to_find = input(\"Enter the state/region to calculate: \")\n",
    "state_to_find = state_to_find.upper()\n",
    "#Looping until the user would like to quit\n",
    "while(state_to_find != 'Q'): \n",
    "    row_indicies, col_indicies = np.where(df.values == state_to_find) #Finding the element\n",
    "    if len(row_indicies) > 0: #If the element was found\n",
    "        row_index = row_indicies[0]\n",
    "        state_df = df.iloc[row_index + 1: row_index + 3].copy() #Save the data in a df as a copy\n",
    "        print(state_df)\n",
    "        #Run the Linear Regression Model\n",
    "        Model_and_Visualize(state_df)\n",
    "    else:\n",
    "        print(\"Invalid Input\")\n",
    "    \n",
    "    state_to_find = input(\"Enter the state/region to calculate (Q to quit): \")\n",
    "    state_to_find = state_to_find.upper()\n",
    "       "
   ]
  }
 ],
 "metadata": {
  "kernelspec": {
   "display_name": "base",
   "language": "python",
   "name": "python3"
  },
  "language_info": {
   "codemirror_mode": {
    "name": "ipython",
    "version": 3
   },
   "file_extension": ".py",
   "mimetype": "text/x-python",
   "name": "python",
   "nbconvert_exporter": "python",
   "pygments_lexer": "ipython3",
   "version": "3.11.7"
  }
 },
 "nbformat": 4,
 "nbformat_minor": 2
}
